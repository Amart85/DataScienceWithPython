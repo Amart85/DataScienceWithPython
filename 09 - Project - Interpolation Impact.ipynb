{
 "cells": [
  {
   "cell_type": "markdown",
   "id": "39c877c9",
   "metadata": {},
   "source": [
    "# Project - Measure Interpolation Impact"
   ]
  },
  {
   "cell_type": "markdown",
   "id": "26869a35",
   "metadata": {},
   "source": [
    "![Data Science Workflow](img/ds-workflow.png)"
   ]
  },
  {
   "cell_type": "markdown",
   "id": "07fd08f8",
   "metadata": {},
   "source": [
    "## Goal of Project\n",
    "- The goal of the project is to see how big impact interpolation can have on results.\n",
    "- The focus is mainly on step 2.\n",
    "- To see the impact we will make simple model usages.\n",
    "- The project will not go into details of steps 3 to 5."
   ]
  },
  {
   "cell_type": "markdown",
   "id": "77f362c4",
   "metadata": {},
   "source": [
    "## Step 1: Acquire\n",
    "- Explore problem\n",
    "- Identify data\n",
    "- Import data"
   ]
  },
  {
   "cell_type": "markdown",
   "id": "6f8cbbcb",
   "metadata": {},
   "source": [
    "### Step 1.a: Import libraries\n",
    "- Execute the cell below (SHIFT + ENTER)"
   ]
  },
  {
   "cell_type": "code",
   "execution_count": 93,
   "id": "9b9c78d1",
   "metadata": {},
   "outputs": [],
   "source": [
    "import pandas as pd\n",
    "import numpy as np\n",
    "from sklearn.linear_model import LinearRegression\n",
    "from sklearn.model_selection import train_test_split\n",
    "from sklearn.metrics import r2_score\n",
    "import matplotlib.pyplot as plt\n",
    "%matplotlib inline"
   ]
  },
  {
   "cell_type": "markdown",
   "id": "b5f9a799",
   "metadata": {},
   "source": [
    "### Step 1.b: Read the data\n",
    "- Use ```pd.read_parquet()``` to read the file `files/weather-predict.parquet`\n",
    "- NOTE: Remember to assign the result to a variable (e.g., ```data```)\n",
    "- Apply ```.head()``` on the data to see all is as expected"
   ]
  },
  {
   "cell_type": "code",
   "execution_count": 60,
   "id": "eb22aad6",
   "metadata": {},
   "outputs": [
    {
     "data": {
      "text/html": [
       "<div>\n",
       "<style scoped>\n",
       "    .dataframe tbody tr th:only-of-type {\n",
       "        vertical-align: middle;\n",
       "    }\n",
       "\n",
       "    .dataframe tbody tr th {\n",
       "        vertical-align: top;\n",
       "    }\n",
       "\n",
       "    .dataframe thead th {\n",
       "        text-align: right;\n",
       "    }\n",
       "</style>\n",
       "<table border=\"1\" class=\"dataframe\">\n",
       "  <thead>\n",
       "    <tr style=\"text-align: right;\">\n",
       "      <th></th>\n",
       "      <th>Pressure</th>\n",
       "      <th>Pressure+24h</th>\n",
       "    </tr>\n",
       "    <tr>\n",
       "      <th>Datetime</th>\n",
       "      <th></th>\n",
       "      <th></th>\n",
       "    </tr>\n",
       "  </thead>\n",
       "  <tbody>\n",
       "    <tr>\n",
       "      <th>2006-04-01 00:00:00</th>\n",
       "      <td>1015.13</td>\n",
       "      <td>1015.68</td>\n",
       "    </tr>\n",
       "    <tr>\n",
       "      <th>2006-04-01 01:00:00</th>\n",
       "      <td>1015.63</td>\n",
       "      <td>1015.41</td>\n",
       "    </tr>\n",
       "    <tr>\n",
       "      <th>2006-04-01 02:00:00</th>\n",
       "      <td>1015.94</td>\n",
       "      <td>1014.98</td>\n",
       "    </tr>\n",
       "    <tr>\n",
       "      <th>2006-04-01 03:00:00</th>\n",
       "      <td>1016.41</td>\n",
       "      <td>1015.18</td>\n",
       "    </tr>\n",
       "    <tr>\n",
       "      <th>2006-04-01 04:00:00</th>\n",
       "      <td>1016.51</td>\n",
       "      <td>1014.70</td>\n",
       "    </tr>\n",
       "  </tbody>\n",
       "</table>\n",
       "</div>"
      ],
      "text/plain": [
       "                     Pressure  Pressure+24h\n",
       "Datetime                                   \n",
       "2006-04-01 00:00:00   1015.13       1015.68\n",
       "2006-04-01 01:00:00   1015.63       1015.41\n",
       "2006-04-01 02:00:00   1015.94       1014.98\n",
       "2006-04-01 03:00:00   1016.41       1015.18\n",
       "2006-04-01 04:00:00   1016.51       1014.70"
      ]
     },
     "execution_count": 60,
     "metadata": {},
     "output_type": "execute_result"
    }
   ],
   "source": [
    "data = pd.read_parquet('files/weather-predict.parquet')\n",
    "data.head()"
   ]
  },
  {
   "cell_type": "markdown",
   "id": "3bec949d",
   "metadata": {},
   "source": [
    "## Step 2: Prepare\n",
    "- Explore data\n",
    "- Visualize ideas\n",
    "- Cleaning data"
   ]
  },
  {
   "cell_type": "markdown",
   "id": "6a5d948d",
   "metadata": {},
   "source": [
    "### Step 2.a: Check the data types\n",
    "- This step tells you if some numeric column is not represented numeric.\n",
    "- Get the data types by ```.dtypes```"
   ]
  },
  {
   "cell_type": "code",
   "execution_count": 83,
   "id": "114126b5",
   "metadata": {
    "scrolled": true
   },
   "outputs": [
    {
     "data": {
      "text/plain": [
       "Pressure        float64\n",
       "Pressure+24h    float64\n",
       "dtype: object"
      ]
     },
     "execution_count": 83,
     "metadata": {},
     "output_type": "execute_result"
    }
   ],
   "source": [
    "data.dtypes"
   ]
  },
  {
   "cell_type": "markdown",
   "id": "a1279c8b",
   "metadata": {},
   "source": [
    "### Step 2.b: Check the length, null-values, and zero values\n",
    "- Check the length\n",
    "    - HINT: Use `len()`\n",
    "- Check the number of null-values\n",
    "    - HINT: Use `.isna().sum()`\n",
    "- Check the number of zero-values\n",
    "    - HINT: Use `(data == 0).sum()`"
   ]
  },
  {
   "cell_type": "code",
   "execution_count": 85,
   "id": "0f35fadb",
   "metadata": {},
   "outputs": [
    {
     "data": {
      "text/plain": [
       "96418"
      ]
     },
     "execution_count": 85,
     "metadata": {},
     "output_type": "execute_result"
    }
   ],
   "source": [
    "len(data)"
   ]
  },
  {
   "cell_type": "code",
   "execution_count": 86,
   "id": "b38b3a03",
   "metadata": {},
   "outputs": [
    {
     "data": {
      "text/plain": [
       "Pressure         0\n",
       "Pressure+24h    38\n",
       "dtype: int64"
      ]
     },
     "execution_count": 86,
     "metadata": {},
     "output_type": "execute_result"
    }
   ],
   "source": [
    "data.isna().sum()"
   ]
  },
  {
   "cell_type": "code",
   "execution_count": 87,
   "id": "56b11c76",
   "metadata": {},
   "outputs": [
    {
     "data": {
      "text/plain": [
       "Pressure        1288\n",
       "Pressure+24h    1288\n",
       "dtype: int64"
      ]
     },
     "execution_count": 87,
     "metadata": {},
     "output_type": "execute_result"
    }
   ],
   "source": [
    "(data == 0).sum()"
   ]
  },
  {
   "cell_type": "markdown",
   "id": "4a8c0dd5",
   "metadata": {},
   "source": [
    "### Step 2.c: Baseline\n",
    "- Check the correlation to have a measure if we did nothing\n",
    "    - HINT: Use `corr()`"
   ]
  },
  {
   "cell_type": "code",
   "execution_count": 88,
   "id": "215e2828",
   "metadata": {
    "scrolled": true
   },
   "outputs": [
    {
     "data": {
      "text/html": [
       "<div>\n",
       "<style scoped>\n",
       "    .dataframe tbody tr th:only-of-type {\n",
       "        vertical-align: middle;\n",
       "    }\n",
       "\n",
       "    .dataframe tbody tr th {\n",
       "        vertical-align: top;\n",
       "    }\n",
       "\n",
       "    .dataframe thead th {\n",
       "        text-align: right;\n",
       "    }\n",
       "</style>\n",
       "<table border=\"1\" class=\"dataframe\">\n",
       "  <thead>\n",
       "    <tr style=\"text-align: right;\">\n",
       "      <th></th>\n",
       "      <th>Pressure</th>\n",
       "      <th>Pressure+24h</th>\n",
       "    </tr>\n",
       "  </thead>\n",
       "  <tbody>\n",
       "    <tr>\n",
       "      <th>Pressure</th>\n",
       "      <td>1.000000</td>\n",
       "      <td>0.419074</td>\n",
       "    </tr>\n",
       "    <tr>\n",
       "      <th>Pressure+24h</th>\n",
       "      <td>0.419074</td>\n",
       "      <td>1.000000</td>\n",
       "    </tr>\n",
       "  </tbody>\n",
       "</table>\n",
       "</div>"
      ],
      "text/plain": [
       "              Pressure  Pressure+24h\n",
       "Pressure      1.000000      0.419074\n",
       "Pressure+24h  0.419074      1.000000"
      ]
     },
     "execution_count": 88,
     "metadata": {},
     "output_type": "execute_result"
    }
   ],
   "source": [
    "data.corr()"
   ]
  },
  {
   "cell_type": "markdown",
   "id": "31e0f5b7",
   "metadata": {},
   "source": [
    "### Step 2.d: Prepare data\n",
    "- We know `Pressure+24` has NaN and 0 values.\n",
    "- These are not correct values and we cannot use them in our model.\n",
    "- Create a `dataset` without these rows.\n",
    "    - HINT: Use filters like `data[data['Pressure+24h'] != 0]` and `dropna()`"
   ]
  },
  {
   "cell_type": "code",
   "execution_count": 89,
   "id": "818113a6",
   "metadata": {},
   "outputs": [],
   "source": [
    "dataset = data[data['Pressure+24h'] != 0]\n",
    "dataset = dataset.dropna()"
   ]
  },
  {
   "cell_type": "markdown",
   "id": "d9b9ed0a",
   "metadata": {},
   "source": [
    "### Step 2.e: Check the size and zero values\n",
    "- Check the size of datasets `data` and `datasets`\n",
    "- Check how many zero-values each dataset has"
   ]
  },
  {
   "cell_type": "code",
   "execution_count": 90,
   "id": "bb62c8d0",
   "metadata": {},
   "outputs": [
    {
     "data": {
      "text/plain": [
       "(95092, 96418)"
      ]
     },
     "execution_count": 90,
     "metadata": {},
     "output_type": "execute_result"
    }
   ],
   "source": [
    "len(dataset), len(data)"
   ]
  },
  {
   "cell_type": "code",
   "execution_count": 91,
   "id": "c5fdf821",
   "metadata": {
    "scrolled": true
   },
   "outputs": [
    {
     "data": {
      "text/plain": [
       "(0, 742)"
      ]
     },
     "execution_count": 91,
     "metadata": {},
     "output_type": "execute_result"
    }
   ],
   "source": [
    "(dataset['Pressure+24h'] == 0).sum(), (dataset['Pressure'] == 0).sum()"
   ]
  },
  {
   "cell_type": "markdown",
   "id": "6418c7fd",
   "metadata": {},
   "source": [
    "### Step 2.f: Check the correlation\n",
    "- For fun check the correlation of `dataset`\n",
    "- Then do the same after you interpolated 0 values\n",
    "    - HINT: Apply `replace` and `interpolate`\n",
    "- Does the result surprice you?\n",
    "- Notice how much interpolation improves the result"
   ]
  },
  {
   "cell_type": "code",
   "execution_count": 94,
   "id": "77b8e339",
   "metadata": {
    "scrolled": true
   },
   "outputs": [
    {
     "data": {
      "text/html": [
       "<div>\n",
       "<style scoped>\n",
       "    .dataframe tbody tr th:only-of-type {\n",
       "        vertical-align: middle;\n",
       "    }\n",
       "\n",
       "    .dataframe tbody tr th {\n",
       "        vertical-align: top;\n",
       "    }\n",
       "\n",
       "    .dataframe thead th {\n",
       "        text-align: right;\n",
       "    }\n",
       "</style>\n",
       "<table border=\"1\" class=\"dataframe\">\n",
       "  <thead>\n",
       "    <tr style=\"text-align: right;\">\n",
       "      <th></th>\n",
       "      <th>Pressure</th>\n",
       "      <th>Pressure+24h</th>\n",
       "    </tr>\n",
       "  </thead>\n",
       "  <tbody>\n",
       "    <tr>\n",
       "      <th>Pressure</th>\n",
       "      <td>1.000000</td>\n",
       "      <td>0.083047</td>\n",
       "    </tr>\n",
       "    <tr>\n",
       "      <th>Pressure+24h</th>\n",
       "      <td>0.083047</td>\n",
       "      <td>1.000000</td>\n",
       "    </tr>\n",
       "  </tbody>\n",
       "</table>\n",
       "</div>"
      ],
      "text/plain": [
       "              Pressure  Pressure+24h\n",
       "Pressure      1.000000      0.083047\n",
       "Pressure+24h  0.083047      1.000000"
      ]
     },
     "execution_count": 94,
     "metadata": {},
     "output_type": "execute_result"
    }
   ],
   "source": [
    "dataset.corr()"
   ]
  },
  {
   "cell_type": "code",
   "execution_count": 95,
   "id": "2de69aba",
   "metadata": {
    "scrolled": false
   },
   "outputs": [
    {
     "data": {
      "text/html": [
       "<div>\n",
       "<style scoped>\n",
       "    .dataframe tbody tr th:only-of-type {\n",
       "        vertical-align: middle;\n",
       "    }\n",
       "\n",
       "    .dataframe tbody tr th {\n",
       "        vertical-align: top;\n",
       "    }\n",
       "\n",
       "    .dataframe thead th {\n",
       "        text-align: right;\n",
       "    }\n",
       "</style>\n",
       "<table border=\"1\" class=\"dataframe\">\n",
       "  <thead>\n",
       "    <tr style=\"text-align: right;\">\n",
       "      <th></th>\n",
       "      <th>Pressure</th>\n",
       "      <th>Pressure+24h</th>\n",
       "    </tr>\n",
       "  </thead>\n",
       "  <tbody>\n",
       "    <tr>\n",
       "      <th>Pressure</th>\n",
       "      <td>1.00000</td>\n",
       "      <td>0.79447</td>\n",
       "    </tr>\n",
       "    <tr>\n",
       "      <th>Pressure+24h</th>\n",
       "      <td>0.79447</td>\n",
       "      <td>1.00000</td>\n",
       "    </tr>\n",
       "  </tbody>\n",
       "</table>\n",
       "</div>"
      ],
      "text/plain": [
       "              Pressure  Pressure+24h\n",
       "Pressure       1.00000       0.79447\n",
       "Pressure+24h   0.79447       1.00000"
      ]
     },
     "execution_count": 95,
     "metadata": {},
     "output_type": "execute_result"
    }
   ],
   "source": [
    "dataset.replace(0, np.nan).interpolate().corr()"
   ]
  },
  {
   "cell_type": "markdown",
   "id": "0db0631e",
   "metadata": {},
   "source": [
    "### Step 2.g: Linear Regression Function\n",
    "- Create function `regression_score` to calculate the r-square score\n",
    "- It should take dependent features X and independent feature y\n",
    "- Then split that into training and testing sets.\n",
    "- Fit the training set.\n",
    "- Predict the test set.\n",
    "- Return the r-square score"
   ]
  },
  {
   "cell_type": "code",
   "execution_count": 98,
   "id": "cd8ed1c9",
   "metadata": {},
   "outputs": [],
   "source": [
    "def regression_score(X, y):\n",
    "    X_train, X_test, y_train, y_test = train_test_split(X, y, test_size=0.2, random_state=42)\n",
    "    lin = LinearRegression()\n",
    "    lin.fit(X_train, y_train)\n",
    "    y_pred = lin.predict(X_test)\n",
    "    return r2_score(y_pred, y_test)"
   ]
  },
  {
   "cell_type": "markdown",
   "id": "5d608e81",
   "metadata": {},
   "source": [
    "### Step 2.h: Test baseline\n",
    "- Test the `regression_score` function on `dataset`"
   ]
  },
  {
   "cell_type": "code",
   "execution_count": 101,
   "id": "9cf4b9b1",
   "metadata": {
    "scrolled": true
   },
   "outputs": [
    {
     "data": {
      "text/plain": [
       "-152.75810672917157"
      ]
     },
     "execution_count": 101,
     "metadata": {},
     "output_type": "execute_result"
    }
   ],
   "source": [
    "regression_score(dataset[['Pressure']], dataset['Pressure+24h'])"
   ]
  },
  {
   "cell_type": "markdown",
   "id": "cf6f27ff",
   "metadata": {},
   "source": [
    "### Step 2.i: Test on interploated dataset\n",
    "- Make a interpolated dataset\n",
    "- Get the result (from `regression_score`) for interpolated dataset"
   ]
  },
  {
   "cell_type": "code",
   "execution_count": 100,
   "id": "132392b1",
   "metadata": {},
   "outputs": [
    {
     "data": {
      "text/plain": [
       "0.4042254234015935"
      ]
     },
     "execution_count": 100,
     "metadata": {},
     "output_type": "execute_result"
    }
   ],
   "source": [
    "datatest = dataset.replace(0, np.nan).interpolate()\n",
    "\n",
    "regression_score(datatest[['Pressure']], datatest['Pressure+24h'])"
   ]
  },
  {
   "cell_type": "code",
   "execution_count": null,
   "id": "7a11a2f3",
   "metadata": {},
   "outputs": [],
   "source": []
  }
 ],
 "metadata": {
  "kernelspec": {
   "display_name": "Python 3 (ipykernel)",
   "language": "python",
   "name": "python3"
  },
  "language_info": {
   "codemirror_mode": {
    "name": "ipython",
    "version": 3
   },
   "file_extension": ".py",
   "mimetype": "text/x-python",
   "name": "python",
   "nbconvert_exporter": "python",
   "pygments_lexer": "ipython3",
   "version": "3.8.8"
  }
 },
 "nbformat": 4,
 "nbformat_minor": 5
}
