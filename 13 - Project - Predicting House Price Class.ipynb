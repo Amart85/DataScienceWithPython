{
 "cells": [
  {
   "cell_type": "markdown",
   "id": "39c877c9",
   "metadata": {},
   "source": [
    "# Project - Parameters with Highest Impact on House Price Class"
   ]
  },
  {
   "cell_type": "markdown",
   "id": "26869a35",
   "metadata": {},
   "source": [
    "![Data Science Workflow](img/ds-workflow.png)"
   ]
  },
  {
   "cell_type": "markdown",
   "id": "52f66758",
   "metadata": {},
   "source": [
    "## Goal of Project\n",
    "- The real estate dealer from last assignment calls back and clarifies his objective\n",
    "- Not so interested in finding what matters most to find house price, but more in which range a house is in.\n",
    "- There are 3 classes: 33% cheapest, 33% mid-range, 33% expensive houses.\n",
    "- He needs to find which 10 parameters matters most to determine that"
   ]
  },
  {
   "cell_type": "markdown",
   "id": "77f362c4",
   "metadata": {},
   "source": [
    "## Step 1: Acquire\n",
    "- Explore problem\n",
    "- Identify data\n",
    "- Import data"
   ]
  },
  {
   "cell_type": "markdown",
   "id": "6f8cbbcb",
   "metadata": {},
   "source": [
    "### Step 1.a: Import libraries\n",
    "- Execute the cell below (SHIFT + ENTER)\n",
    "- NOTE: You might need to install mlxtend, if so, run the following in a cell\n",
    "```\n",
    "!pip install mlxtend\n",
    "```"
   ]
  },
  {
   "cell_type": "code",
   "execution_count": 15,
   "id": "9b9c78d1",
   "metadata": {},
   "outputs": [],
   "source": [
    "import pandas as pd\n",
    "from sklearn.feature_selection import VarianceThreshold\n",
    "from sklearn.model_selection import train_test_split\n",
    "from sklearn.neighbors import KNeighborsClassifier\n",
    "from mlxtend.feature_selection import SequentialFeatureSelector as SFS"
   ]
  },
  {
   "cell_type": "markdown",
   "id": "b5f9a799",
   "metadata": {},
   "source": [
    "### Step 1.b: Read the data\n",
    "- Use ```pd.read_parquet()``` to read the file `files/house_sales.parquet`\n",
    "- NOTE: Remember to assign the result to a variable (e.g., ```data```)\n",
    "- Apply ```.head()``` on the data to see all is as expected"
   ]
  },
  {
   "cell_type": "code",
   "execution_count": 2,
   "id": "eb22aad6",
   "metadata": {},
   "outputs": [
    {
     "data": {
      "text/html": [
       "<div>\n",
       "<style scoped>\n",
       "    .dataframe tbody tr th:only-of-type {\n",
       "        vertical-align: middle;\n",
       "    }\n",
       "\n",
       "    .dataframe tbody tr th {\n",
       "        vertical-align: top;\n",
       "    }\n",
       "\n",
       "    .dataframe thead th {\n",
       "        text-align: right;\n",
       "    }\n",
       "</style>\n",
       "<table border=\"1\" class=\"dataframe\">\n",
       "  <thead>\n",
       "    <tr style=\"text-align: right;\">\n",
       "      <th></th>\n",
       "      <th>MSSubClass</th>\n",
       "      <th>LotFrontage</th>\n",
       "      <th>LotArea</th>\n",
       "      <th>Street</th>\n",
       "      <th>LotShape</th>\n",
       "      <th>LandContour</th>\n",
       "      <th>Utilities</th>\n",
       "      <th>LandSlope</th>\n",
       "      <th>OverallQual</th>\n",
       "      <th>OverallCond</th>\n",
       "      <th>...</th>\n",
       "      <th>OpenPorchSF</th>\n",
       "      <th>EnclosedPorch</th>\n",
       "      <th>3SsnPorch</th>\n",
       "      <th>ScreenPorch</th>\n",
       "      <th>PoolArea</th>\n",
       "      <th>PoolQC</th>\n",
       "      <th>MiscVal</th>\n",
       "      <th>MoSold</th>\n",
       "      <th>YrSold</th>\n",
       "      <th>SalePrice</th>\n",
       "    </tr>\n",
       "    <tr>\n",
       "      <th>Id</th>\n",
       "      <th></th>\n",
       "      <th></th>\n",
       "      <th></th>\n",
       "      <th></th>\n",
       "      <th></th>\n",
       "      <th></th>\n",
       "      <th></th>\n",
       "      <th></th>\n",
       "      <th></th>\n",
       "      <th></th>\n",
       "      <th></th>\n",
       "      <th></th>\n",
       "      <th></th>\n",
       "      <th></th>\n",
       "      <th></th>\n",
       "      <th></th>\n",
       "      <th></th>\n",
       "      <th></th>\n",
       "      <th></th>\n",
       "      <th></th>\n",
       "      <th></th>\n",
       "    </tr>\n",
       "  </thead>\n",
       "  <tbody>\n",
       "    <tr>\n",
       "      <th>1</th>\n",
       "      <td>60</td>\n",
       "      <td>65.0</td>\n",
       "      <td>8450</td>\n",
       "      <td>1</td>\n",
       "      <td>3</td>\n",
       "      <td>3</td>\n",
       "      <td>3</td>\n",
       "      <td>2</td>\n",
       "      <td>7</td>\n",
       "      <td>5</td>\n",
       "      <td>...</td>\n",
       "      <td>61</td>\n",
       "      <td>0</td>\n",
       "      <td>0</td>\n",
       "      <td>0</td>\n",
       "      <td>0</td>\n",
       "      <td>NaN</td>\n",
       "      <td>0</td>\n",
       "      <td>2</td>\n",
       "      <td>2008</td>\n",
       "      <td>208500</td>\n",
       "    </tr>\n",
       "    <tr>\n",
       "      <th>2</th>\n",
       "      <td>20</td>\n",
       "      <td>80.0</td>\n",
       "      <td>9600</td>\n",
       "      <td>1</td>\n",
       "      <td>3</td>\n",
       "      <td>3</td>\n",
       "      <td>3</td>\n",
       "      <td>2</td>\n",
       "      <td>6</td>\n",
       "      <td>8</td>\n",
       "      <td>...</td>\n",
       "      <td>0</td>\n",
       "      <td>0</td>\n",
       "      <td>0</td>\n",
       "      <td>0</td>\n",
       "      <td>0</td>\n",
       "      <td>NaN</td>\n",
       "      <td>0</td>\n",
       "      <td>5</td>\n",
       "      <td>2007</td>\n",
       "      <td>181500</td>\n",
       "    </tr>\n",
       "    <tr>\n",
       "      <th>3</th>\n",
       "      <td>60</td>\n",
       "      <td>68.0</td>\n",
       "      <td>11250</td>\n",
       "      <td>1</td>\n",
       "      <td>2</td>\n",
       "      <td>3</td>\n",
       "      <td>3</td>\n",
       "      <td>2</td>\n",
       "      <td>7</td>\n",
       "      <td>5</td>\n",
       "      <td>...</td>\n",
       "      <td>42</td>\n",
       "      <td>0</td>\n",
       "      <td>0</td>\n",
       "      <td>0</td>\n",
       "      <td>0</td>\n",
       "      <td>NaN</td>\n",
       "      <td>0</td>\n",
       "      <td>9</td>\n",
       "      <td>2008</td>\n",
       "      <td>223500</td>\n",
       "    </tr>\n",
       "    <tr>\n",
       "      <th>4</th>\n",
       "      <td>70</td>\n",
       "      <td>60.0</td>\n",
       "      <td>9550</td>\n",
       "      <td>1</td>\n",
       "      <td>2</td>\n",
       "      <td>3</td>\n",
       "      <td>3</td>\n",
       "      <td>2</td>\n",
       "      <td>7</td>\n",
       "      <td>5</td>\n",
       "      <td>...</td>\n",
       "      <td>35</td>\n",
       "      <td>272</td>\n",
       "      <td>0</td>\n",
       "      <td>0</td>\n",
       "      <td>0</td>\n",
       "      <td>NaN</td>\n",
       "      <td>0</td>\n",
       "      <td>2</td>\n",
       "      <td>2006</td>\n",
       "      <td>140000</td>\n",
       "    </tr>\n",
       "    <tr>\n",
       "      <th>5</th>\n",
       "      <td>60</td>\n",
       "      <td>84.0</td>\n",
       "      <td>14260</td>\n",
       "      <td>1</td>\n",
       "      <td>2</td>\n",
       "      <td>3</td>\n",
       "      <td>3</td>\n",
       "      <td>2</td>\n",
       "      <td>8</td>\n",
       "      <td>5</td>\n",
       "      <td>...</td>\n",
       "      <td>84</td>\n",
       "      <td>0</td>\n",
       "      <td>0</td>\n",
       "      <td>0</td>\n",
       "      <td>0</td>\n",
       "      <td>NaN</td>\n",
       "      <td>0</td>\n",
       "      <td>12</td>\n",
       "      <td>2008</td>\n",
       "      <td>250000</td>\n",
       "    </tr>\n",
       "  </tbody>\n",
       "</table>\n",
       "<p>5 rows × 56 columns</p>\n",
       "</div>"
      ],
      "text/plain": [
       "    MSSubClass  LotFrontage  LotArea  Street  LotShape  LandContour  \\\n",
       "Id                                                                    \n",
       "1           60         65.0     8450       1         3            3   \n",
       "2           20         80.0     9600       1         3            3   \n",
       "3           60         68.0    11250       1         2            3   \n",
       "4           70         60.0     9550       1         2            3   \n",
       "5           60         84.0    14260       1         2            3   \n",
       "\n",
       "    Utilities  LandSlope  OverallQual  OverallCond  ...  OpenPorchSF  \\\n",
       "Id                                                  ...                \n",
       "1           3          2            7            5  ...           61   \n",
       "2           3          2            6            8  ...            0   \n",
       "3           3          2            7            5  ...           42   \n",
       "4           3          2            7            5  ...           35   \n",
       "5           3          2            8            5  ...           84   \n",
       "\n",
       "    EnclosedPorch  3SsnPorch  ScreenPorch  PoolArea  PoolQC  MiscVal  MoSold  \\\n",
       "Id                                                                             \n",
       "1               0          0            0         0     NaN        0       2   \n",
       "2               0          0            0         0     NaN        0       5   \n",
       "3               0          0            0         0     NaN        0       9   \n",
       "4             272          0            0         0     NaN        0       2   \n",
       "5               0          0            0         0     NaN        0      12   \n",
       "\n",
       "    YrSold  SalePrice  \n",
       "Id                     \n",
       "1     2008     208500  \n",
       "2     2007     181500  \n",
       "3     2008     223500  \n",
       "4     2006     140000  \n",
       "5     2008     250000  \n",
       "\n",
       "[5 rows x 56 columns]"
      ]
     },
     "execution_count": 2,
     "metadata": {},
     "output_type": "execute_result"
    }
   ],
   "source": [
    "data = pd.read_parquet('files/house_sales.parquet')\n",
    "data.head()"
   ]
  },
  {
   "cell_type": "markdown",
   "id": "a2377dd7",
   "metadata": {},
   "source": [
    "### Step 1.c: Inspect the data\n",
    "- Check the number of rows and columns\n",
    "    - HINT: `.shape`"
   ]
  },
  {
   "cell_type": "code",
   "execution_count": 3,
   "id": "7a11a2f3",
   "metadata": {},
   "outputs": [
    {
     "data": {
      "text/plain": [
       "(1460, 56)"
      ]
     },
     "execution_count": 3,
     "metadata": {},
     "output_type": "execute_result"
    }
   ],
   "source": [
    "data.shape"
   ]
  },
  {
   "cell_type": "markdown",
   "id": "3bec949d",
   "metadata": {},
   "source": [
    "## Step 2: Prepare\n",
    "- Explore data\n",
    "- Visualize ideas\n",
    "- Cleaning data"
   ]
  },
  {
   "cell_type": "markdown",
   "id": "6a5d948d",
   "metadata": {},
   "source": [
    "### Step 2.a: Check the data types\n",
    "- This step tells you if some numeric column is not represented numeric.\n",
    "- Get the data types by ```.dtypes```"
   ]
  },
  {
   "cell_type": "code",
   "execution_count": 4,
   "id": "ece72db2",
   "metadata": {},
   "outputs": [
    {
     "data": {
      "text/plain": [
       "MSSubClass         int64\n",
       "LotFrontage      float64\n",
       "LotArea            int64\n",
       "Street             int64\n",
       "LotShape           int64\n",
       "LandContour        int64\n",
       "Utilities          int64\n",
       "LandSlope          int64\n",
       "OverallQual        int64\n",
       "OverallCond        int64\n",
       "YearBuilt          int64\n",
       "YearRemodAdd       int64\n",
       "MasVnrArea       float64\n",
       "ExterQual          int64\n",
       "ExterCond          int64\n",
       "BsmtQual         float64\n",
       "BsmtCond         float64\n",
       "BsmtExposure     float64\n",
       "BsmtFinType1     float64\n",
       "BsmtFinSF1         int64\n",
       "BsmtFinType2     float64\n",
       "BsmtFinSF2         int64\n",
       "BsmtUnfSF          int64\n",
       "TotalBsmtSF        int64\n",
       "HeatingQC          int64\n",
       "CentralAir         int64\n",
       "1stFlrSF           int64\n",
       "2ndFlrSF           int64\n",
       "LowQualFinSF       int64\n",
       "GrLivArea          int64\n",
       "BsmtFullBath       int64\n",
       "BsmtHalfBath       int64\n",
       "FullBath           int64\n",
       "HalfBath           int64\n",
       "BedroomAbvGr       int64\n",
       "KitchenAbvGr       int64\n",
       "KitchenQual        int64\n",
       "TotRmsAbvGrd       int64\n",
       "Fireplaces         int64\n",
       "FireplaceQu      float64\n",
       "GarageYrBlt      float64\n",
       "GarageCars         int64\n",
       "GarageArea         int64\n",
       "GarageQual       float64\n",
       "GarageCond       float64\n",
       "WoodDeckSF         int64\n",
       "OpenPorchSF        int64\n",
       "EnclosedPorch      int64\n",
       "3SsnPorch          int64\n",
       "ScreenPorch        int64\n",
       "PoolArea           int64\n",
       "PoolQC           float64\n",
       "MiscVal            int64\n",
       "MoSold             int64\n",
       "YrSold             int64\n",
       "SalePrice          int64\n",
       "dtype: object"
      ]
     },
     "execution_count": 4,
     "metadata": {},
     "output_type": "execute_result"
    }
   ],
   "source": [
    "data.dtypes"
   ]
  },
  {
   "cell_type": "markdown",
   "id": "2867789a",
   "metadata": {},
   "source": [
    "### Step 2.b: Check for null (missing) values\n",
    "- Let's check if any features are not valuable\n",
    "- Use ```.info()```\n",
    "- Should we remove any?\n",
    "    - You can remove features (columns):\n",
    "    ```Python\n",
    "data.drop([<column_name>, ..., <column_name>], axis=1)\n",
    "```"
   ]
  },
  {
   "cell_type": "code",
   "execution_count": 5,
   "id": "3e167fee",
   "metadata": {},
   "outputs": [
    {
     "name": "stdout",
     "output_type": "stream",
     "text": [
      "<class 'pandas.core.frame.DataFrame'>\n",
      "Int64Index: 1460 entries, 1 to 1460\n",
      "Data columns (total 56 columns):\n",
      " #   Column         Non-Null Count  Dtype  \n",
      "---  ------         --------------  -----  \n",
      " 0   MSSubClass     1460 non-null   int64  \n",
      " 1   LotFrontage    1201 non-null   float64\n",
      " 2   LotArea        1460 non-null   int64  \n",
      " 3   Street         1460 non-null   int64  \n",
      " 4   LotShape       1460 non-null   int64  \n",
      " 5   LandContour    1460 non-null   int64  \n",
      " 6   Utilities      1460 non-null   int64  \n",
      " 7   LandSlope      1460 non-null   int64  \n",
      " 8   OverallQual    1460 non-null   int64  \n",
      " 9   OverallCond    1460 non-null   int64  \n",
      " 10  YearBuilt      1460 non-null   int64  \n",
      " 11  YearRemodAdd   1460 non-null   int64  \n",
      " 12  MasVnrArea     1452 non-null   float64\n",
      " 13  ExterQual      1460 non-null   int64  \n",
      " 14  ExterCond      1460 non-null   int64  \n",
      " 15  BsmtQual       1423 non-null   float64\n",
      " 16  BsmtCond       1423 non-null   float64\n",
      " 17  BsmtExposure   1422 non-null   float64\n",
      " 18  BsmtFinType1   1423 non-null   float64\n",
      " 19  BsmtFinSF1     1460 non-null   int64  \n",
      " 20  BsmtFinType2   1422 non-null   float64\n",
      " 21  BsmtFinSF2     1460 non-null   int64  \n",
      " 22  BsmtUnfSF      1460 non-null   int64  \n",
      " 23  TotalBsmtSF    1460 non-null   int64  \n",
      " 24  HeatingQC      1460 non-null   int64  \n",
      " 25  CentralAir     1460 non-null   int64  \n",
      " 26  1stFlrSF       1460 non-null   int64  \n",
      " 27  2ndFlrSF       1460 non-null   int64  \n",
      " 28  LowQualFinSF   1460 non-null   int64  \n",
      " 29  GrLivArea      1460 non-null   int64  \n",
      " 30  BsmtFullBath   1460 non-null   int64  \n",
      " 31  BsmtHalfBath   1460 non-null   int64  \n",
      " 32  FullBath       1460 non-null   int64  \n",
      " 33  HalfBath       1460 non-null   int64  \n",
      " 34  BedroomAbvGr   1460 non-null   int64  \n",
      " 35  KitchenAbvGr   1460 non-null   int64  \n",
      " 36  KitchenQual    1460 non-null   int64  \n",
      " 37  TotRmsAbvGrd   1460 non-null   int64  \n",
      " 38  Fireplaces     1460 non-null   int64  \n",
      " 39  FireplaceQu    770 non-null    float64\n",
      " 40  GarageYrBlt    1379 non-null   float64\n",
      " 41  GarageCars     1460 non-null   int64  \n",
      " 42  GarageArea     1460 non-null   int64  \n",
      " 43  GarageQual     1379 non-null   float64\n",
      " 44  GarageCond     1379 non-null   float64\n",
      " 45  WoodDeckSF     1460 non-null   int64  \n",
      " 46  OpenPorchSF    1460 non-null   int64  \n",
      " 47  EnclosedPorch  1460 non-null   int64  \n",
      " 48  3SsnPorch      1460 non-null   int64  \n",
      " 49  ScreenPorch    1460 non-null   int64  \n",
      " 50  PoolArea       1460 non-null   int64  \n",
      " 51  PoolQC         7 non-null      float64\n",
      " 52  MiscVal        1460 non-null   int64  \n",
      " 53  MoSold         1460 non-null   int64  \n",
      " 54  YrSold         1460 non-null   int64  \n",
      " 55  SalePrice      1460 non-null   int64  \n",
      "dtypes: float64(12), int64(44)\n",
      "memory usage: 650.2 KB\n"
     ]
    }
   ],
   "source": [
    "data.info()"
   ]
  },
  {
   "cell_type": "code",
   "execution_count": 6,
   "id": "9c93ed35",
   "metadata": {},
   "outputs": [],
   "source": [
    "data = data.drop(['PoolQC'], axis=1)"
   ]
  },
  {
   "cell_type": "markdown",
   "id": "8cc1cabe",
   "metadata": {},
   "source": [
    "## Step 3: Analyze\n",
    "- Feature selection\n",
    "- Model selection\n",
    "- Analyze data"
   ]
  },
  {
   "cell_type": "markdown",
   "id": "5607dc7a",
   "metadata": {},
   "source": [
    "### Step 3.a: Quasi constant features\n",
    "- Let see if there are any quasi features\n",
    "- Create a `VarianceThreshold(threshold=0.01)` and fit it\n",
    "- The features that are not quasi constant are given by `sel.get_feature_names_out()`\n",
    "- Get all the qausi features as with list comprehension"
   ]
  },
  {
   "cell_type": "code",
   "execution_count": 9,
   "id": "0b2f19de",
   "metadata": {},
   "outputs": [
    {
     "data": {
      "text/plain": [
       "VarianceThreshold(threshold=0.01)"
      ]
     },
     "execution_count": 9,
     "metadata": {},
     "output_type": "execute_result"
    }
   ],
   "source": [
    "sel = VarianceThreshold(threshold=0.01)\n",
    "sel.fit(data)"
   ]
  },
  {
   "cell_type": "code",
   "execution_count": 10,
   "id": "1520376c",
   "metadata": {},
   "outputs": [],
   "source": [
    "quasi_features = [col for col in data.columns if col not in sel.get_feature_names_out()]"
   ]
  },
  {
   "cell_type": "markdown",
   "id": "8c0a2914",
   "metadata": {},
   "source": [
    "### Step 3.b: Correlated features\n",
    "- Calculate the correlation matrix `corr_matrix` and inspect it\n",
    "    - HINT: use `.corr()`\n",
    "- Get all the correlated features\n",
    "    - HINT: A feature is correlated to a feature before it if\n",
    "```Python\n",
    "(corr_matrix[feature].iloc[:corr_matrix.columns.get_loc(feature)] > 0.8).any()\n",
    "```\n",
    "    - HINT: Use list comprehension to get a list of the correlated features"
   ]
  },
  {
   "cell_type": "code",
   "execution_count": 11,
   "id": "78f9813c",
   "metadata": {},
   "outputs": [],
   "source": [
    "corr_matrix = data.corr()"
   ]
  },
  {
   "cell_type": "code",
   "execution_count": 12,
   "id": "a604151a",
   "metadata": {},
   "outputs": [
    {
     "data": {
      "text/plain": [
       "['BsmtFinSF2', '1stFlrSF', 'TotRmsAbvGrd', 'GarageYrBlt', 'GarageArea']"
      ]
     },
     "execution_count": 12,
     "metadata": {},
     "output_type": "execute_result"
    }
   ],
   "source": [
    "corr_features = [feature for feature in corr_matrix.columns if (corr_matrix[feature].iloc[:corr_matrix.columns.get_loc(feature)] > 0.8).any()]\n",
    "corr_features"
   ]
  },
  {
   "cell_type": "markdown",
   "id": "9d467d87",
   "metadata": {},
   "source": [
    "### Step 3.c: Prepare training and test set\n",
    "- Create 3 categorical price ranges using `qcut`\n",
    "    - HINT: `pd.qcut(data['SalePrice'], q=3, labels=[1, 2, 3])`\n",
    "- Assign all features in `X`\n",
    "    - HINT: Use `.drop(['SalePrice', 'Target'] + quasi_features + corr_features, axis=1)`\n",
    "        - (assuming the same naming)\n",
    "- Assign the target to `y`\n",
    "    - HINT: The target is column `Target`\n",
    "- Split into train and test using `train_test_split`"
   ]
  },
  {
   "cell_type": "code",
   "execution_count": 18,
   "id": "d96419c0",
   "metadata": {},
   "outputs": [],
   "source": [
    "data['Target'] = pd.qcut(data['SalePrice'], q=3, labels=[1,2,3])\n",
    "\n",
    "X = data.drop(['SalePrice', 'Target'] + quasi_features + corr_features, axis=1)\n",
    "y = data['Target']\n",
    "\n",
    "X_train, X_test, y_train, y_test = train_test_split(X, y, random_state=0)"
   ]
  },
  {
   "cell_type": "markdown",
   "id": "07cbff2f",
   "metadata": {},
   "source": [
    "### Step 3.d: 10 best features for LinearRegression model\n",
    "- Use the `SFS` to find 10 best features for a `LinearRegression` model\n",
    "    - HINT: `SFS(LinearRegression(), k_features=10, verbose=2)`\n",
    "    - HINT: when fitting fill missing values or remove them\n",
    "        - Notice: ideally we would investigate them further to find appropriate values\n",
    "- You get the best feature index from `.k_feature_idx_`"
   ]
  },
  {
   "cell_type": "code",
   "execution_count": 19,
   "id": "394dcd62",
   "metadata": {},
   "outputs": [],
   "source": [
    "sfs = SFS(KNeighborsClassifier(), k_features=10, verbose=2)"
   ]
  },
  {
   "cell_type": "code",
   "execution_count": 20,
   "id": "2227e7d7",
   "metadata": {
    "scrolled": true
   },
   "outputs": [
    {
     "name": "stderr",
     "output_type": "stream",
     "text": [
      "[Parallel(n_jobs=1)]: Using backend SequentialBackend with 1 concurrent workers.\n",
      "[Parallel(n_jobs=1)]: Done   1 out of   1 | elapsed:    0.0s remaining:    0.0s\n",
      "[Parallel(n_jobs=1)]: Done  47 out of  47 | elapsed:    1.4s finished\n",
      "\n",
      "[2021-12-11 13:55:44] Features: 1/10 -- score: 0.6374429223744291[Parallel(n_jobs=1)]: Using backend SequentialBackend with 1 concurrent workers.\n",
      "[Parallel(n_jobs=1)]: Done   1 out of   1 | elapsed:    0.0s remaining:    0.0s\n",
      "[Parallel(n_jobs=1)]: Done  46 out of  46 | elapsed:    1.3s finished\n",
      "\n",
      "[2021-12-11 13:55:45] Features: 2/10 -- score: 0.6949771689497717[Parallel(n_jobs=1)]: Using backend SequentialBackend with 1 concurrent workers.\n",
      "[Parallel(n_jobs=1)]: Done   1 out of   1 | elapsed:    0.0s remaining:    0.0s\n",
      "[Parallel(n_jobs=1)]: Done  45 out of  45 | elapsed:    1.2s finished\n",
      "\n",
      "[2021-12-11 13:55:46] Features: 3/10 -- score: 0.7223744292237442[Parallel(n_jobs=1)]: Using backend SequentialBackend with 1 concurrent workers.\n",
      "[Parallel(n_jobs=1)]: Done   1 out of   1 | elapsed:    0.0s remaining:    0.0s\n",
      "[Parallel(n_jobs=1)]: Done  44 out of  44 | elapsed:    1.3s finished\n",
      "\n",
      "[2021-12-11 13:55:48] Features: 4/10 -- score: 0.7305936073059361[Parallel(n_jobs=1)]: Using backend SequentialBackend with 1 concurrent workers.\n",
      "[Parallel(n_jobs=1)]: Done   1 out of   1 | elapsed:    0.0s remaining:    0.0s\n",
      "[Parallel(n_jobs=1)]: Done  43 out of  43 | elapsed:    1.3s finished\n",
      "\n",
      "[2021-12-11 13:55:49] Features: 5/10 -- score: 0.7452054794520547[Parallel(n_jobs=1)]: Using backend SequentialBackend with 1 concurrent workers.\n",
      "[Parallel(n_jobs=1)]: Done   1 out of   1 | elapsed:    0.0s remaining:    0.0s\n",
      "[Parallel(n_jobs=1)]: Done  42 out of  42 | elapsed:    1.2s finished\n",
      "\n",
      "[2021-12-11 13:55:50] Features: 6/10 -- score: 0.7525114155251142[Parallel(n_jobs=1)]: Using backend SequentialBackend with 1 concurrent workers.\n",
      "[Parallel(n_jobs=1)]: Done   1 out of   1 | elapsed:    0.0s remaining:    0.0s\n",
      "[Parallel(n_jobs=1)]: Done  41 out of  41 | elapsed:    1.2s finished\n",
      "\n",
      "[2021-12-11 13:55:51] Features: 7/10 -- score: 0.7515981735159818[Parallel(n_jobs=1)]: Using backend SequentialBackend with 1 concurrent workers.\n",
      "[Parallel(n_jobs=1)]: Done   1 out of   1 | elapsed:    0.0s remaining:    0.0s\n",
      "[Parallel(n_jobs=1)]: Done  40 out of  40 | elapsed:    1.1s finished\n",
      "\n",
      "[2021-12-11 13:55:53] Features: 8/10 -- score: 0.7515981735159817[Parallel(n_jobs=1)]: Using backend SequentialBackend with 1 concurrent workers.\n",
      "[Parallel(n_jobs=1)]: Done   1 out of   1 | elapsed:    0.0s remaining:    0.0s\n",
      "[Parallel(n_jobs=1)]: Done  39 out of  39 | elapsed:    1.5s finished\n",
      "\n",
      "[2021-12-11 13:55:54] Features: 9/10 -- score: 0.754337899543379[Parallel(n_jobs=1)]: Using backend SequentialBackend with 1 concurrent workers.\n",
      "[Parallel(n_jobs=1)]: Done   1 out of   1 | elapsed:    0.0s remaining:    0.0s\n",
      "[Parallel(n_jobs=1)]: Done  38 out of  38 | elapsed:    1.3s finished\n",
      "\n",
      "[2021-12-11 13:55:55] Features: 10/10 -- score: 0.7552511415525114"
     ]
    },
    {
     "data": {
      "text/plain": [
       "SequentialFeatureSelector(estimator=KNeighborsClassifier(), k_features=10,\n",
       "                          verbose=2)"
      ]
     },
     "execution_count": 20,
     "metadata": {},
     "output_type": "execute_result"
    }
   ],
   "source": [
    "sfs.fit(X_train.fillna(-1), y_train)"
   ]
  },
  {
   "cell_type": "markdown",
   "id": "b9d5f3fa",
   "metadata": {},
   "source": [
    "### Step 3.e: Explore the features\n",
    "- Let's try to explore the features\n",
    "    - HINT: The features can be accessed by `sfs.k_feature_idx_`\n",
    "    - HINT: Get the feature names by: `X_train.columns[list(sfs.k_feature_idx_)]`\n",
    "- Try to list them according to correlation score\n",
    "    - HINT: This is a bit more advanced Python\n",
    "    ```Python\n",
    "for item in X_train.columns[list(sfs.k_feature_idx_)]:\n",
    "    loc = corr_matrix['SalePrice'].sort_values(ascending=False).index.get_loc(item)\n",
    "    print(item, loc)\n",
    "    ```\n",
    "- Does the result surprise you?\n",
    "- Does it change your recommendations?"
   ]
  },
  {
   "cell_type": "code",
   "execution_count": 21,
   "id": "584bbdd1",
   "metadata": {},
   "outputs": [
    {
     "data": {
      "text/plain": [
       "(0, 5, 6, 15, 22, 28, 31, 32, 35, 37)"
      ]
     },
     "execution_count": 21,
     "metadata": {},
     "output_type": "execute_result"
    }
   ],
   "source": [
    "sfs.k_feature_idx_"
   ]
  },
  {
   "cell_type": "code",
   "execution_count": 25,
   "id": "a694ca50",
   "metadata": {
    "scrolled": true
   },
   "outputs": [
    {
     "data": {
      "text/plain": [
       "Index(['MSSubClass', 'LandSlope', 'OverallQual', 'BsmtExposure', 'CentralAir',\n",
       "       'FullBath', 'KitchenAbvGr', 'KitchenQual', 'GarageCars', 'GarageCond'],\n",
       "      dtype='object')"
      ]
     },
     "execution_count": 25,
     "metadata": {},
     "output_type": "execute_result"
    }
   ],
   "source": [
    "X_train.columns[list(sfs.k_feature_idx_)]"
   ]
  },
  {
   "cell_type": "code",
   "execution_count": 32,
   "id": "eb3bac9c",
   "metadata": {},
   "outputs": [
    {
     "name": "stdout",
     "output_type": "stream",
     "text": [
      "MSSubClass 51\n",
      "LandSlope 49\n",
      "OverallQual 1\n",
      "BsmtExposure 19\n",
      "CentralAir 28\n",
      "FullBath 10\n",
      "KitchenAbvGr 53\n",
      "KitchenQual 4\n",
      "GarageCars 6\n",
      "GarageCond 34\n"
     ]
    }
   ],
   "source": [
    "for item in X_train.columns[list(sfs.k_feature_idx_)]:\n",
    "    loc = corr_matrix['SalePrice'].sort_values(ascending=False).index.get_loc(item)\n",
    "    print(item, loc)"
   ]
  },
  {
   "cell_type": "markdown",
   "id": "98a71ee2",
   "metadata": {},
   "source": [
    "## Step 4: Report\n",
    "- Present findings\n",
    "- Visualize results\n",
    "- Credibility counts"
   ]
  },
  {
   "cell_type": "markdown",
   "id": "1d51d38f",
   "metadata": {},
   "source": [
    "### Step 4.a: Present findings\n",
    "- Use the analysis from Step 3 to figures out how to present your findings\n",
    "- Try to think how the real estate dealer can use these findings"
   ]
  },
  {
   "cell_type": "code",
   "execution_count": null,
   "id": "dc2661b4",
   "metadata": {},
   "outputs": [],
   "source": []
  },
  {
   "cell_type": "markdown",
   "id": "65c865f1",
   "metadata": {},
   "source": [
    "## Step 5: Actions\n",
    "- Use insights\n",
    "- Measure impact\n",
    "- Main goal"
   ]
  },
  {
   "cell_type": "markdown",
   "id": "34cd3598",
   "metadata": {},
   "source": [
    "### Step 5.a: Measure impact\n",
    "- Can we help the dealer to use these insights?"
   ]
  },
  {
   "cell_type": "code",
   "execution_count": null,
   "id": "2f67725e",
   "metadata": {},
   "outputs": [],
   "source": []
  }
 ],
 "metadata": {
  "kernelspec": {
   "display_name": "Python 3 (ipykernel)",
   "language": "python",
   "name": "python3"
  },
  "language_info": {
   "codemirror_mode": {
    "name": "ipython",
    "version": 3
   },
   "file_extension": ".py",
   "mimetype": "text/x-python",
   "name": "python",
   "nbconvert_exporter": "python",
   "pygments_lexer": "ipython3",
   "version": "3.8.8"
  }
 },
 "nbformat": 4,
 "nbformat_minor": 5
}
