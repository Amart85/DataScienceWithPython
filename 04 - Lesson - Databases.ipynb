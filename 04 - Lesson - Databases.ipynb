{
 "cells": [
  {
   "cell_type": "markdown",
   "id": "b6debaac",
   "metadata": {},
   "source": [
    "# Databases"
   ]
  },
  {
   "cell_type": "markdown",
   "id": "a560dd75",
   "metadata": {},
   "source": [
    "![Data Science Workflow](img/ds-workflow.png)"
   ]
  },
  {
   "cell_type": "markdown",
   "id": "c25bb04b",
   "metadata": {},
   "source": [
    "## Acquire Data\n",
    "### Common Data Sources\n",
    "- The Internet - Web Scraping\n",
    "- **Databases**\n",
    "- CSV\n",
    "- Excel\n",
    "- Parquet"
   ]
  },
  {
   "cell_type": "markdown",
   "id": "bfa4218b",
   "metadata": {},
   "source": [
    "### Database\n",
    "- **Relational databases** models data in rows and columns in a series of tables.\n",
    "- Like a collection of **DataFrames/Excel sheets**.\n",
    "- **SQL** (often pronounced *sequel*): Structured Query Language\n",
    "- Non-relational databases [NoSQL](https://en.wikipedia.org/wiki/NoSQL)"
   ]
  },
  {
   "cell_type": "markdown",
   "id": "d9874702",
   "metadata": {},
   "source": [
    "### SQLite database\n",
    "- [SQLite database](https://www.sqlite.org/index.html) software library that provides a relational database management system\n",
    "- Lightweight to setup, administrate, and requires low resources."
   ]
  },
  {
   "cell_type": "markdown",
   "id": "6d7f352f",
   "metadata": {},
   "source": [
    "### Dataset (in a SQLite database)\n",
    "- Dallas Police Officer-Involved Shootings\n",
    "- Has three tables: **incidents, officers, subjects**\n",
    "\n",
    "#### Other SQLite datasets\n",
    "- [SQLite Data Starter Packs](http://2016.padjo.org/tutorials/sqlite-data-starterpacks/)\n",
    "- [Iris Species (Kaggle)](https://www.kaggle.com/uciml/iris)\n",
    "- [European Soccer Database (Kaggle)](https://www.kaggle.com/hugomathien/soccer)"
   ]
  },
  {
   "cell_type": "markdown",
   "id": "2a4264e0",
   "metadata": {},
   "source": [
    "### Database connector\n",
    "- The [sqlite3](https://docs.python.org/3/library/sqlite3.html) is an interface for SQLite databases.\n",
    "- No installation needed.\n",
    "\n",
    "#### Other database connectors for Python\n",
    "* [MySQL Connector](https://dev.mysql.com/doc/connector-python/en/) for MySQL\n",
    "* [Psycopg](http://initd.org/psycopg/docs/install.html) for PostgreSQL\n",
    "* [pymssql](http://pymssql.org/en/stable/) for Microsoft MS SQL"
   ]
  },
  {
   "cell_type": "markdown",
   "id": "f6779643",
   "metadata": {},
   "source": [
    "To import and connect to a SQLite database.\n",
    "```Python\n",
    "import sqlite3\n",
    "conn = sqlite3.connect('files/dallas-ois.sqlite')\n",
    "```"
   ]
  },
  {
   "cell_type": "code",
   "execution_count": 1,
   "id": "e0e27aa3",
   "metadata": {},
   "outputs": [],
   "source": [
    "import sqlite3"
   ]
  },
  {
   "cell_type": "code",
   "execution_count": 28,
   "id": "19f19355",
   "metadata": {},
   "outputs": [],
   "source": [
    "conn = sqlite3.connect('files/dallas-ois.sqlite')"
   ]
  },
  {
   "cell_type": "markdown",
   "id": "329dbd67",
   "metadata": {},
   "source": [
    "The interface to the datases is through the `cursor`.\n",
    "\n",
    "```Python\n",
    "cursor = conn.cursor()\n",
    "```\n",
    "\n",
    "The `execute` method allows to run `SQL` queries on our database.\n",
    "\n",
    "To get a list of all the tables the following query can be applied.\n",
    "\n",
    "```SQL\n",
    "SELECT name FROM sqlite_master WHERE type='table' ORDER BY name\n",
    "```\n",
    "\n",
    "The result is fetched with the `fetchall()` method."
   ]
  },
  {
   "cell_type": "code",
   "execution_count": 3,
   "id": "65c44739",
   "metadata": {},
   "outputs": [],
   "source": [
    "cursor = conn.cursor()"
   ]
  },
  {
   "cell_type": "code",
   "execution_count": 6,
   "id": "0a183fc7",
   "metadata": {},
   "outputs": [
    {
     "data": {
      "text/plain": [
       "<sqlite3.Cursor at 0x7ff5497be9d0>"
      ]
     },
     "execution_count": 6,
     "metadata": {},
     "output_type": "execute_result"
    }
   ],
   "source": [
    "cursor.execute(\"SELECT name FROM sqlite_master WHERE type='table' ORDER BY name\")"
   ]
  },
  {
   "cell_type": "code",
   "execution_count": 7,
   "id": "bfbcae50",
   "metadata": {
    "scrolled": true
   },
   "outputs": [
    {
     "data": {
      "text/plain": [
       "[('incidents',), ('officers',), ('subjects',)]"
      ]
     },
     "execution_count": 7,
     "metadata": {},
     "output_type": "execute_result"
    }
   ],
   "source": [
    "cursor.fetchall()"
   ]
  },
  {
   "cell_type": "markdown",
   "id": "b424595d",
   "metadata": {},
   "source": [
    "To get a description of a table\n",
    "\n",
    "```SQL\n",
    "PRAGMA table_info(officers)\n",
    "```"
   ]
  },
  {
   "cell_type": "code",
   "execution_count": 29,
   "id": "a857ad80",
   "metadata": {
    "scrolled": true
   },
   "outputs": [
    {
     "data": {
      "text/plain": [
       "[(0, 'case_number', 'TEXT', 0, None, 0),\n",
       " (1, 'race', 'TEXT', 0, None, 0),\n",
       " (2, 'gender', 'TEXT', 0, None, 0),\n",
       " (3, 'last_name', 'TEXT', 0, None, 0),\n",
       " (4, 'first_name', 'TEXT', 0, None, 0),\n",
       " (5, 'full_name', 'TEXT', 0, None, 0)]"
      ]
     },
     "execution_count": 29,
     "metadata": {},
     "output_type": "execute_result"
    }
   ],
   "source": [
    "cursor.execute(\"PRAGMA table_info(officers)\").fetchall()"
   ]
  },
  {
   "cell_type": "code",
   "execution_count": null,
   "id": "2f9bbc2d",
   "metadata": {},
   "outputs": [],
   "source": []
  },
  {
   "cell_type": "markdown",
   "id": "b9cc3c8c",
   "metadata": {},
   "source": [
    "### SQL syntax\n",
    "Get all data from table\n",
    "```SQL\n",
    "SELECT * FROM table_name\n",
    "```\n",
    "\n",
    "Limit the response\n",
    "```SQL\n",
    "SELECT * FROM table_name LIMIT 100\n",
    "```\n",
    "\n",
    "Filter data\n",
    "```SQL\n",
    "SELECT * FROM table_name WHERE column_name > 1\n",
    "```"
   ]
  },
  {
   "cell_type": "markdown",
   "id": "9a25d394",
   "metadata": {},
   "source": [
    "### Import data into DataFrame\n",
    "Example of how to read data into a DataFrame from a SQL statement\n",
    "```Python\n",
    "import pandas as pd\n",
    "\n",
    "officers = pd.read_sql('SELECT * FROM officers', conn)\n",
    "```"
   ]
  },
  {
   "cell_type": "code",
   "execution_count": 10,
   "id": "7efb9885",
   "metadata": {},
   "outputs": [],
   "source": [
    "import pandas as pd"
   ]
  },
  {
   "cell_type": "code",
   "execution_count": 53,
   "id": "afb54ff2",
   "metadata": {},
   "outputs": [
    {
     "data": {
      "text/plain": [
       "(370, 6)"
      ]
     },
     "execution_count": 53,
     "metadata": {},
     "output_type": "execute_result"
    }
   ],
   "source": [
    "officers = pd.read_sql('SELECT * FROM officers', conn)\n",
    "officers.shape"
   ]
  },
  {
   "cell_type": "code",
   "execution_count": 56,
   "id": "98e79885",
   "metadata": {},
   "outputs": [
    {
     "data": {
      "text/plain": [
       "344"
      ]
     },
     "execution_count": 56,
     "metadata": {},
     "output_type": "execute_result"
    }
   ],
   "source": [
    "len(officers['full_name'].unique())"
   ]
  },
  {
   "cell_type": "markdown",
   "id": "1119602f",
   "metadata": {},
   "source": [
    "### SQL join syntax\n",
    "`(INNER) JOIN`: returns records that have matching values in both tables\n",
    "```SQL\n",
    "SELECT * FROM table_1 JOIN table_2 ON table_1.column_name_1=table_2.column_name_2\n",
    "```\n",
    "\n",
    "`LEFT JOIN`: returns all records from the left table, and the matched records from the right table\n",
    "```SQL\n",
    "SELECT * FROM table_1 JOIN table_2 ON table_1.column_name_1=table_2.column_name_2\n",
    "```"
   ]
  },
  {
   "cell_type": "code",
   "execution_count": 52,
   "id": "790aeb78",
   "metadata": {
    "scrolled": true
   },
   "outputs": [
    {
     "data": {
      "text/plain": [
       "(370, 21)"
      ]
     },
     "execution_count": 52,
     "metadata": {},
     "output_type": "execute_result"
    }
   ],
   "source": [
    "officers = pd.read_sql('SELECT * FROM officers JOIN incidents ON officers.case_number=incidents.case_number', conn)\n",
    "officers.shape"
   ]
  },
  {
   "cell_type": "code",
   "execution_count": 39,
   "id": "eb3b2933",
   "metadata": {},
   "outputs": [
    {
     "data": {
      "text/html": [
       "<div>\n",
       "<style scoped>\n",
       "    .dataframe tbody tr th:only-of-type {\n",
       "        vertical-align: middle;\n",
       "    }\n",
       "\n",
       "    .dataframe tbody tr th {\n",
       "        vertical-align: top;\n",
       "    }\n",
       "\n",
       "    .dataframe thead th {\n",
       "        text-align: right;\n",
       "    }\n",
       "</style>\n",
       "<table border=\"1\" class=\"dataframe\">\n",
       "  <thead>\n",
       "    <tr style=\"text-align: right;\">\n",
       "      <th></th>\n",
       "      <th>case_number</th>\n",
       "      <th>race</th>\n",
       "      <th>last_name</th>\n",
       "      <th>first_name</th>\n",
       "      <th>full_name</th>\n",
       "    </tr>\n",
       "    <tr>\n",
       "      <th>gender</th>\n",
       "      <th></th>\n",
       "      <th></th>\n",
       "      <th></th>\n",
       "      <th></th>\n",
       "      <th></th>\n",
       "    </tr>\n",
       "  </thead>\n",
       "  <tbody>\n",
       "    <tr>\n",
       "      <th>F</th>\n",
       "      <td>19</td>\n",
       "      <td>18</td>\n",
       "      <td>19</td>\n",
       "      <td>18</td>\n",
       "      <td>19</td>\n",
       "    </tr>\n",
       "    <tr>\n",
       "      <th>M</th>\n",
       "      <td>351</td>\n",
       "      <td>348</td>\n",
       "      <td>351</td>\n",
       "      <td>349</td>\n",
       "      <td>351</td>\n",
       "    </tr>\n",
       "  </tbody>\n",
       "</table>\n",
       "</div>"
      ],
      "text/plain": [
       "        case_number  race  last_name  first_name  full_name\n",
       "gender                                                     \n",
       "F                19    18         19          18         19\n",
       "M               351   348        351         349        351"
      ]
     },
     "execution_count": 39,
     "metadata": {},
     "output_type": "execute_result"
    }
   ],
   "source": [
    "(officers.groupby('gender').count())"
   ]
  },
  {
   "cell_type": "code",
   "execution_count": 44,
   "id": "ec85633c",
   "metadata": {},
   "outputs": [
    {
     "data": {
      "text/plain": [
       "(219, 15)"
      ]
     },
     "execution_count": 44,
     "metadata": {},
     "output_type": "execute_result"
    }
   ],
   "source": [
    "incidents = pd.read_sql('SELECT * FROM incidents', conn)\n",
    "incidents.shape"
   ]
  },
  {
   "cell_type": "code",
   "execution_count": 20,
   "id": "d65affc2",
   "metadata": {},
   "outputs": [
    {
     "data": {
      "text/html": [
       "<div>\n",
       "<style scoped>\n",
       "    .dataframe tbody tr th:only-of-type {\n",
       "        vertical-align: middle;\n",
       "    }\n",
       "\n",
       "    .dataframe tbody tr th {\n",
       "        vertical-align: top;\n",
       "    }\n",
       "\n",
       "    .dataframe thead th {\n",
       "        text-align: right;\n",
       "    }\n",
       "</style>\n",
       "<table border=\"1\" class=\"dataframe\">\n",
       "  <thead>\n",
       "    <tr style=\"text-align: right;\">\n",
       "      <th></th>\n",
       "      <th>case_number</th>\n",
       "      <th>race</th>\n",
       "      <th>gender</th>\n",
       "      <th>last_name</th>\n",
       "      <th>first_name</th>\n",
       "      <th>full_name</th>\n",
       "    </tr>\n",
       "  </thead>\n",
       "  <tbody>\n",
       "    <tr>\n",
       "      <th>0</th>\n",
       "      <td>44523A</td>\n",
       "      <td>L</td>\n",
       "      <td>M</td>\n",
       "      <td>Curry</td>\n",
       "      <td>James</td>\n",
       "      <td>Curry, James</td>\n",
       "    </tr>\n",
       "    <tr>\n",
       "      <th>1</th>\n",
       "      <td>121982X</td>\n",
       "      <td>L</td>\n",
       "      <td>M</td>\n",
       "      <td>Chavez</td>\n",
       "      <td>Gabriel</td>\n",
       "      <td>Chavez, Gabriel</td>\n",
       "    </tr>\n",
       "    <tr>\n",
       "      <th>2</th>\n",
       "      <td>605484T</td>\n",
       "      <td>L</td>\n",
       "      <td>M</td>\n",
       "      <td>Salinas</td>\n",
       "      <td>Nick</td>\n",
       "      <td>Salinas, Nick</td>\n",
       "    </tr>\n",
       "    <tr>\n",
       "      <th>3</th>\n",
       "      <td>384832T</td>\n",
       "      <td>B</td>\n",
       "      <td>M</td>\n",
       "      <td>Smith</td>\n",
       "      <td>James</td>\n",
       "      <td>Smith, James</td>\n",
       "    </tr>\n",
       "    <tr>\n",
       "      <th>4</th>\n",
       "      <td>384832T</td>\n",
       "      <td>B</td>\n",
       "      <td>M</td>\n",
       "      <td>Dews</td>\n",
       "      <td>Antonio</td>\n",
       "      <td>Dews, Antonio</td>\n",
       "    </tr>\n",
       "  </tbody>\n",
       "</table>\n",
       "</div>"
      ],
      "text/plain": [
       "  case_number race gender last_name first_name        full_name\n",
       "0      44523A    L      M     Curry      James     Curry, James\n",
       "1     121982X    L      M    Chavez    Gabriel  Chavez, Gabriel\n",
       "2     605484T    L      M   Salinas       Nick    Salinas, Nick\n",
       "3     384832T    B      M     Smith      James     Smith, James\n",
       "4     384832T    B      M      Dews    Antonio    Dews, Antonio"
      ]
     },
     "execution_count": 20,
     "metadata": {},
     "output_type": "execute_result"
    }
   ],
   "source": [
    "subjects = pd.read_sql('SELECT * FROM subjects', conn)\n",
    "subjects.head()"
   ]
  }
 ],
 "metadata": {
  "kernelspec": {
   "display_name": "Python 3 (ipykernel)",
   "language": "python",
   "name": "python3"
  },
  "language_info": {
   "codemirror_mode": {
    "name": "ipython",
    "version": 3
   },
   "file_extension": ".py",
   "mimetype": "text/x-python",
   "name": "python",
   "nbconvert_exporter": "python",
   "pygments_lexer": "ipython3",
   "version": "3.8.8"
  }
 },
 "nbformat": 4,
 "nbformat_minor": 5
}
